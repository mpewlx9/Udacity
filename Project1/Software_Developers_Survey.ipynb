{
 "cells": [
  {
   "cell_type": "markdown",
   "metadata": {},
   "source": [
    "# Project 1: Write A Blog (Code)\n",
    "### Project Motivation\n",
    "This notebook is for project \"Write A Blog Post\" for the Udacity nano degree in data science. The following steps for the CRISP-DM process are covered within this notebook: Business Understanding, Prepare Data, Data Understanding, Data Cleansing, Data Analysis, Evaluate the Results, Business Summary.\n",
    "\n",
    "### Business Understanding\n",
    "Three questions to be answered:\n",
    "#### Q1: is the salary for developers from the Germany higher than those from United States?\n",
    "#### Q2: is the career satisfaction for developers from the Germany higher than those from United States?\n",
    "#### Q3: is the job satisfaction for developers from the Germany higher than those from United States?"
   ]
  },
  {
   "cell_type": "markdown",
   "metadata": {},
   "source": [
    "### Prepare the Data\n",
    "\n",
    "Load the data"
   ]
  },
  {
   "cell_type": "code",
   "execution_count": 113,
   "metadata": {},
   "outputs": [
    {
     "data": {
      "text/html": [
       "<div>\n",
       "<style scoped>\n",
       "    .dataframe tbody tr th:only-of-type {\n",
       "        vertical-align: middle;\n",
       "    }\n",
       "\n",
       "    .dataframe tbody tr th {\n",
       "        vertical-align: top;\n",
       "    }\n",
       "\n",
       "    .dataframe thead th {\n",
       "        text-align: right;\n",
       "    }\n",
       "</style>\n",
       "<table border=\"1\" class=\"dataframe\">\n",
       "  <thead>\n",
       "    <tr style=\"text-align: right;\">\n",
       "      <th></th>\n",
       "      <th>Respondent</th>\n",
       "      <th>Professional</th>\n",
       "      <th>ProgramHobby</th>\n",
       "      <th>Country</th>\n",
       "      <th>University</th>\n",
       "      <th>EmploymentStatus</th>\n",
       "      <th>FormalEducation</th>\n",
       "      <th>MajorUndergrad</th>\n",
       "      <th>HomeRemote</th>\n",
       "      <th>CompanySize</th>\n",
       "      <th>...</th>\n",
       "      <th>StackOverflowMakeMoney</th>\n",
       "      <th>Gender</th>\n",
       "      <th>HighestEducationParents</th>\n",
       "      <th>Race</th>\n",
       "      <th>SurveyLong</th>\n",
       "      <th>QuestionsInteresting</th>\n",
       "      <th>QuestionsConfusing</th>\n",
       "      <th>InterestedAnswers</th>\n",
       "      <th>Salary</th>\n",
       "      <th>ExpectedSalary</th>\n",
       "    </tr>\n",
       "  </thead>\n",
       "  <tbody>\n",
       "    <tr>\n",
       "      <th>0</th>\n",
       "      <td>1</td>\n",
       "      <td>Student</td>\n",
       "      <td>Yes, both</td>\n",
       "      <td>United States</td>\n",
       "      <td>No</td>\n",
       "      <td>Not employed, and not looking for work</td>\n",
       "      <td>Secondary school</td>\n",
       "      <td>NaN</td>\n",
       "      <td>NaN</td>\n",
       "      <td>NaN</td>\n",
       "      <td>...</td>\n",
       "      <td>Strongly disagree</td>\n",
       "      <td>Male</td>\n",
       "      <td>High school</td>\n",
       "      <td>White or of European descent</td>\n",
       "      <td>Strongly disagree</td>\n",
       "      <td>Strongly agree</td>\n",
       "      <td>Disagree</td>\n",
       "      <td>Strongly agree</td>\n",
       "      <td>NaN</td>\n",
       "      <td>NaN</td>\n",
       "    </tr>\n",
       "    <tr>\n",
       "      <th>1</th>\n",
       "      <td>2</td>\n",
       "      <td>Student</td>\n",
       "      <td>Yes, both</td>\n",
       "      <td>United Kingdom</td>\n",
       "      <td>Yes, full-time</td>\n",
       "      <td>Employed part-time</td>\n",
       "      <td>Some college/university study without earning ...</td>\n",
       "      <td>Computer science or software engineering</td>\n",
       "      <td>More than half, but not all, the time</td>\n",
       "      <td>20 to 99 employees</td>\n",
       "      <td>...</td>\n",
       "      <td>Strongly disagree</td>\n",
       "      <td>Male</td>\n",
       "      <td>A master's degree</td>\n",
       "      <td>White or of European descent</td>\n",
       "      <td>Somewhat agree</td>\n",
       "      <td>Somewhat agree</td>\n",
       "      <td>Disagree</td>\n",
       "      <td>Strongly agree</td>\n",
       "      <td>NaN</td>\n",
       "      <td>37500.0</td>\n",
       "    </tr>\n",
       "    <tr>\n",
       "      <th>2</th>\n",
       "      <td>3</td>\n",
       "      <td>Professional developer</td>\n",
       "      <td>Yes, both</td>\n",
       "      <td>United Kingdom</td>\n",
       "      <td>No</td>\n",
       "      <td>Employed full-time</td>\n",
       "      <td>Bachelor's degree</td>\n",
       "      <td>Computer science or software engineering</td>\n",
       "      <td>Less than half the time, but at least one day ...</td>\n",
       "      <td>10,000 or more employees</td>\n",
       "      <td>...</td>\n",
       "      <td>Disagree</td>\n",
       "      <td>Male</td>\n",
       "      <td>A professional degree</td>\n",
       "      <td>White or of European descent</td>\n",
       "      <td>Somewhat agree</td>\n",
       "      <td>Agree</td>\n",
       "      <td>Disagree</td>\n",
       "      <td>Agree</td>\n",
       "      <td>113750.0</td>\n",
       "      <td>NaN</td>\n",
       "    </tr>\n",
       "    <tr>\n",
       "      <th>3</th>\n",
       "      <td>4</td>\n",
       "      <td>Professional non-developer who sometimes write...</td>\n",
       "      <td>Yes, both</td>\n",
       "      <td>United States</td>\n",
       "      <td>No</td>\n",
       "      <td>Employed full-time</td>\n",
       "      <td>Doctoral degree</td>\n",
       "      <td>A non-computer-focused engineering discipline</td>\n",
       "      <td>Less than half the time, but at least one day ...</td>\n",
       "      <td>10,000 or more employees</td>\n",
       "      <td>...</td>\n",
       "      <td>Disagree</td>\n",
       "      <td>Male</td>\n",
       "      <td>A doctoral degree</td>\n",
       "      <td>White or of European descent</td>\n",
       "      <td>Agree</td>\n",
       "      <td>Agree</td>\n",
       "      <td>Somewhat agree</td>\n",
       "      <td>Strongly agree</td>\n",
       "      <td>NaN</td>\n",
       "      <td>NaN</td>\n",
       "    </tr>\n",
       "    <tr>\n",
       "      <th>4</th>\n",
       "      <td>5</td>\n",
       "      <td>Professional developer</td>\n",
       "      <td>Yes, I program as a hobby</td>\n",
       "      <td>Switzerland</td>\n",
       "      <td>No</td>\n",
       "      <td>Employed full-time</td>\n",
       "      <td>Master's degree</td>\n",
       "      <td>Computer science or software engineering</td>\n",
       "      <td>Never</td>\n",
       "      <td>10 to 19 employees</td>\n",
       "      <td>...</td>\n",
       "      <td>NaN</td>\n",
       "      <td>NaN</td>\n",
       "      <td>NaN</td>\n",
       "      <td>NaN</td>\n",
       "      <td>NaN</td>\n",
       "      <td>NaN</td>\n",
       "      <td>NaN</td>\n",
       "      <td>NaN</td>\n",
       "      <td>NaN</td>\n",
       "      <td>NaN</td>\n",
       "    </tr>\n",
       "  </tbody>\n",
       "</table>\n",
       "<p>5 rows × 154 columns</p>\n",
       "</div>"
      ],
      "text/plain": [
       "   Respondent                                       Professional  \\\n",
       "0           1                                            Student   \n",
       "1           2                                            Student   \n",
       "2           3                             Professional developer   \n",
       "3           4  Professional non-developer who sometimes write...   \n",
       "4           5                             Professional developer   \n",
       "\n",
       "                ProgramHobby         Country      University  \\\n",
       "0                  Yes, both   United States              No   \n",
       "1                  Yes, both  United Kingdom  Yes, full-time   \n",
       "2                  Yes, both  United Kingdom              No   \n",
       "3                  Yes, both   United States              No   \n",
       "4  Yes, I program as a hobby     Switzerland              No   \n",
       "\n",
       "                         EmploymentStatus  \\\n",
       "0  Not employed, and not looking for work   \n",
       "1                      Employed part-time   \n",
       "2                      Employed full-time   \n",
       "3                      Employed full-time   \n",
       "4                      Employed full-time   \n",
       "\n",
       "                                     FormalEducation  \\\n",
       "0                                   Secondary school   \n",
       "1  Some college/university study without earning ...   \n",
       "2                                  Bachelor's degree   \n",
       "3                                    Doctoral degree   \n",
       "4                                    Master's degree   \n",
       "\n",
       "                                  MajorUndergrad  \\\n",
       "0                                            NaN   \n",
       "1       Computer science or software engineering   \n",
       "2       Computer science or software engineering   \n",
       "3  A non-computer-focused engineering discipline   \n",
       "4       Computer science or software engineering   \n",
       "\n",
       "                                          HomeRemote  \\\n",
       "0                                                NaN   \n",
       "1              More than half, but not all, the time   \n",
       "2  Less than half the time, but at least one day ...   \n",
       "3  Less than half the time, but at least one day ...   \n",
       "4                                              Never   \n",
       "\n",
       "                CompanySize       ...       StackOverflowMakeMoney Gender  \\\n",
       "0                       NaN       ...            Strongly disagree   Male   \n",
       "1        20 to 99 employees       ...            Strongly disagree   Male   \n",
       "2  10,000 or more employees       ...                     Disagree   Male   \n",
       "3  10,000 or more employees       ...                     Disagree   Male   \n",
       "4        10 to 19 employees       ...                          NaN    NaN   \n",
       "\n",
       "  HighestEducationParents                          Race         SurveyLong  \\\n",
       "0             High school  White or of European descent  Strongly disagree   \n",
       "1       A master's degree  White or of European descent     Somewhat agree   \n",
       "2   A professional degree  White or of European descent     Somewhat agree   \n",
       "3       A doctoral degree  White or of European descent              Agree   \n",
       "4                     NaN                           NaN                NaN   \n",
       "\n",
       "  QuestionsInteresting QuestionsConfusing InterestedAnswers    Salary  \\\n",
       "0       Strongly agree           Disagree    Strongly agree       NaN   \n",
       "1       Somewhat agree           Disagree    Strongly agree       NaN   \n",
       "2                Agree           Disagree             Agree  113750.0   \n",
       "3                Agree     Somewhat agree    Strongly agree       NaN   \n",
       "4                  NaN                NaN               NaN       NaN   \n",
       "\n",
       "   ExpectedSalary  \n",
       "0             NaN  \n",
       "1         37500.0  \n",
       "2             NaN  \n",
       "3             NaN  \n",
       "4             NaN  \n",
       "\n",
       "[5 rows x 154 columns]"
      ]
     },
     "execution_count": 113,
     "metadata": {},
     "output_type": "execute_result"
    }
   ],
   "source": [
    "import numpy as np\n",
    "import pandas as pd\n",
    "import matplotlib.pyplot as plt\n",
    "import ALookAtTheData as t\n",
    "%matplotlib inline\n",
    "\n",
    "df_re = pd.read_csv('./survey_results_public.csv')\n",
    "df_re.head()"
   ]
  },
  {
   "cell_type": "code",
   "execution_count": 114,
   "metadata": {},
   "outputs": [
    {
     "data": {
      "text/html": [
       "<div>\n",
       "<style scoped>\n",
       "    .dataframe tbody tr th:only-of-type {\n",
       "        vertical-align: middle;\n",
       "    }\n",
       "\n",
       "    .dataframe tbody tr th {\n",
       "        vertical-align: top;\n",
       "    }\n",
       "\n",
       "    .dataframe thead th {\n",
       "        text-align: right;\n",
       "    }\n",
       "</style>\n",
       "<table border=\"1\" class=\"dataframe\">\n",
       "  <thead>\n",
       "    <tr style=\"text-align: right;\">\n",
       "      <th></th>\n",
       "      <th>Column</th>\n",
       "      <th>Question</th>\n",
       "    </tr>\n",
       "  </thead>\n",
       "  <tbody>\n",
       "    <tr>\n",
       "      <th>0</th>\n",
       "      <td>Respondent</td>\n",
       "      <td>Respondent ID number</td>\n",
       "    </tr>\n",
       "    <tr>\n",
       "      <th>1</th>\n",
       "      <td>Professional</td>\n",
       "      <td>Which of the following best describes you?</td>\n",
       "    </tr>\n",
       "    <tr>\n",
       "      <th>2</th>\n",
       "      <td>ProgramHobby</td>\n",
       "      <td>Do you program as a hobby or contribute to ope...</td>\n",
       "    </tr>\n",
       "    <tr>\n",
       "      <th>3</th>\n",
       "      <td>Country</td>\n",
       "      <td>In which country do you currently live?</td>\n",
       "    </tr>\n",
       "    <tr>\n",
       "      <th>4</th>\n",
       "      <td>University</td>\n",
       "      <td>Are you currently enrolled in a formal, degree...</td>\n",
       "    </tr>\n",
       "  </tbody>\n",
       "</table>\n",
       "</div>"
      ],
      "text/plain": [
       "         Column                                           Question\n",
       "0    Respondent                               Respondent ID number\n",
       "1  Professional         Which of the following best describes you?\n",
       "2  ProgramHobby  Do you program as a hobby or contribute to ope...\n",
       "3       Country            In which country do you currently live?\n",
       "4    University  Are you currently enrolled in a formal, degree..."
      ]
     },
     "execution_count": 114,
     "metadata": {},
     "output_type": "execute_result"
    }
   ],
   "source": [
    "df_sh = pd.read_csv('./survey_results_schema.csv')\n",
    "df_sh.head()"
   ]
  },
  {
   "cell_type": "markdown",
   "metadata": {},
   "source": [
    "### Data Understanding\n",
    "\n",
    "How does the survey quetions look like?"
   ]
  },
  {
   "cell_type": "code",
   "execution_count": 115,
   "metadata": {},
   "outputs": [
    {
     "data": {
      "text/html": [
       "<div>\n",
       "<style scoped>\n",
       "    .dataframe tbody tr th:only-of-type {\n",
       "        vertical-align: middle;\n",
       "    }\n",
       "\n",
       "    .dataframe tbody tr th {\n",
       "        vertical-align: top;\n",
       "    }\n",
       "\n",
       "    .dataframe thead th {\n",
       "        text-align: right;\n",
       "    }\n",
       "</style>\n",
       "<table border=\"1\" class=\"dataframe\">\n",
       "  <thead>\n",
       "    <tr style=\"text-align: right;\">\n",
       "      <th></th>\n",
       "      <th>Column</th>\n",
       "      <th>Question</th>\n",
       "    </tr>\n",
       "  </thead>\n",
       "  <tbody>\n",
       "    <tr>\n",
       "      <th>0</th>\n",
       "      <td>Respondent</td>\n",
       "      <td>Respondent ID number</td>\n",
       "    </tr>\n",
       "    <tr>\n",
       "      <th>1</th>\n",
       "      <td>Professional</td>\n",
       "      <td>Which of the following best describes you?</td>\n",
       "    </tr>\n",
       "    <tr>\n",
       "      <th>2</th>\n",
       "      <td>ProgramHobby</td>\n",
       "      <td>Do you program as a hobby or contribute to ope...</td>\n",
       "    </tr>\n",
       "    <tr>\n",
       "      <th>3</th>\n",
       "      <td>Country</td>\n",
       "      <td>In which country do you currently live?</td>\n",
       "    </tr>\n",
       "    <tr>\n",
       "      <th>4</th>\n",
       "      <td>University</td>\n",
       "      <td>Are you currently enrolled in a formal, degree...</td>\n",
       "    </tr>\n",
       "    <tr>\n",
       "      <th>5</th>\n",
       "      <td>EmploymentStatus</td>\n",
       "      <td>Which of the following best describes your cur...</td>\n",
       "    </tr>\n",
       "    <tr>\n",
       "      <th>6</th>\n",
       "      <td>FormalEducation</td>\n",
       "      <td>Which of the following best describes the high...</td>\n",
       "    </tr>\n",
       "    <tr>\n",
       "      <th>7</th>\n",
       "      <td>MajorUndergrad</td>\n",
       "      <td>Which of the following best describes your mai...</td>\n",
       "    </tr>\n",
       "    <tr>\n",
       "      <th>8</th>\n",
       "      <td>HomeRemote</td>\n",
       "      <td>How often do you work from home or remotely?</td>\n",
       "    </tr>\n",
       "    <tr>\n",
       "      <th>9</th>\n",
       "      <td>CompanySize</td>\n",
       "      <td>In terms of the number of employees, how large...</td>\n",
       "    </tr>\n",
       "    <tr>\n",
       "      <th>10</th>\n",
       "      <td>CompanyType</td>\n",
       "      <td>Which of the following best describes the type...</td>\n",
       "    </tr>\n",
       "    <tr>\n",
       "      <th>11</th>\n",
       "      <td>YearsProgram</td>\n",
       "      <td>How long has it been since you first learned h...</td>\n",
       "    </tr>\n",
       "    <tr>\n",
       "      <th>12</th>\n",
       "      <td>YearsCodedJob</td>\n",
       "      <td>For how many years have you coded as part of y...</td>\n",
       "    </tr>\n",
       "    <tr>\n",
       "      <th>13</th>\n",
       "      <td>YearsCodedJobPast</td>\n",
       "      <td>For how many years did you code as part of you...</td>\n",
       "    </tr>\n",
       "    <tr>\n",
       "      <th>14</th>\n",
       "      <td>DeveloperType</td>\n",
       "      <td>Which of the following best describe you?</td>\n",
       "    </tr>\n",
       "    <tr>\n",
       "      <th>15</th>\n",
       "      <td>WebDeveloperType</td>\n",
       "      <td>Which of the following best describes you as a...</td>\n",
       "    </tr>\n",
       "    <tr>\n",
       "      <th>16</th>\n",
       "      <td>MobileDeveloperType</td>\n",
       "      <td>For which of the following platforms do you de...</td>\n",
       "    </tr>\n",
       "    <tr>\n",
       "      <th>17</th>\n",
       "      <td>NonDeveloperType</td>\n",
       "      <td>Which of the following describe you?</td>\n",
       "    </tr>\n",
       "    <tr>\n",
       "      <th>18</th>\n",
       "      <td>CareerSatisfaction</td>\n",
       "      <td>Career satisfaction rating</td>\n",
       "    </tr>\n",
       "    <tr>\n",
       "      <th>19</th>\n",
       "      <td>JobSatisfaction</td>\n",
       "      <td>Job satisfaction rating</td>\n",
       "    </tr>\n",
       "    <tr>\n",
       "      <th>20</th>\n",
       "      <td>ExCoderReturn</td>\n",
       "      <td>You said before that you used to code as part ...</td>\n",
       "    </tr>\n",
       "    <tr>\n",
       "      <th>21</th>\n",
       "      <td>ExCoderNotForMe</td>\n",
       "      <td>You said before that you used to code as part ...</td>\n",
       "    </tr>\n",
       "    <tr>\n",
       "      <th>22</th>\n",
       "      <td>ExCoderBalance</td>\n",
       "      <td>You said before that you used to code as part ...</td>\n",
       "    </tr>\n",
       "    <tr>\n",
       "      <th>23</th>\n",
       "      <td>ExCoder10Years</td>\n",
       "      <td>You said before that you used to code as part ...</td>\n",
       "    </tr>\n",
       "    <tr>\n",
       "      <th>24</th>\n",
       "      <td>ExCoderBelonged</td>\n",
       "      <td>You said before that you used to code as part ...</td>\n",
       "    </tr>\n",
       "    <tr>\n",
       "      <th>25</th>\n",
       "      <td>ExCoderSkills</td>\n",
       "      <td>You said before that you used to code as part ...</td>\n",
       "    </tr>\n",
       "    <tr>\n",
       "      <th>26</th>\n",
       "      <td>ExCoderWillNotCode</td>\n",
       "      <td>You said before that you used to code as part ...</td>\n",
       "    </tr>\n",
       "    <tr>\n",
       "      <th>27</th>\n",
       "      <td>ExCoderActive</td>\n",
       "      <td>You said before that you used to code as part ...</td>\n",
       "    </tr>\n",
       "    <tr>\n",
       "      <th>28</th>\n",
       "      <td>PronounceGIF</td>\n",
       "      <td>How do you pronounce \"GIF\"?</td>\n",
       "    </tr>\n",
       "    <tr>\n",
       "      <th>29</th>\n",
       "      <td>ProblemSolving</td>\n",
       "      <td>I love solving problems</td>\n",
       "    </tr>\n",
       "    <tr>\n",
       "      <th>...</th>\n",
       "      <td>...</td>\n",
       "      <td>...</td>\n",
       "    </tr>\n",
       "    <tr>\n",
       "      <th>124</th>\n",
       "      <td>InfluenceRecruitment</td>\n",
       "      <td>How much influence do you have on purchasing d...</td>\n",
       "    </tr>\n",
       "    <tr>\n",
       "      <th>125</th>\n",
       "      <td>InfluenceCommunication</td>\n",
       "      <td>How much influence do you have on purchasing d...</td>\n",
       "    </tr>\n",
       "    <tr>\n",
       "      <th>126</th>\n",
       "      <td>StackOverflowDescribes</td>\n",
       "      <td>Which of the following best describes you?</td>\n",
       "    </tr>\n",
       "    <tr>\n",
       "      <th>127</th>\n",
       "      <td>StackOverflowSatisfaction</td>\n",
       "      <td>Stack Overflow satisfaction</td>\n",
       "    </tr>\n",
       "    <tr>\n",
       "      <th>128</th>\n",
       "      <td>StackOverflowDevices</td>\n",
       "      <td>Which of the following devices have you used t...</td>\n",
       "    </tr>\n",
       "    <tr>\n",
       "      <th>129</th>\n",
       "      <td>StackOverflowFoundAnswer</td>\n",
       "      <td>Over the last three months, approximately how ...</td>\n",
       "    </tr>\n",
       "    <tr>\n",
       "      <th>130</th>\n",
       "      <td>StackOverflowCopiedCode</td>\n",
       "      <td>Over the last three months, approximately how ...</td>\n",
       "    </tr>\n",
       "    <tr>\n",
       "      <th>131</th>\n",
       "      <td>StackOverflowJobListing</td>\n",
       "      <td>Over the last three months, approximately how ...</td>\n",
       "    </tr>\n",
       "    <tr>\n",
       "      <th>132</th>\n",
       "      <td>StackOverflowCompanyPage</td>\n",
       "      <td>Over the last three months, approximately how ...</td>\n",
       "    </tr>\n",
       "    <tr>\n",
       "      <th>133</th>\n",
       "      <td>StackOverflowJobSearch</td>\n",
       "      <td>Over the last three months, approximately how ...</td>\n",
       "    </tr>\n",
       "    <tr>\n",
       "      <th>134</th>\n",
       "      <td>StackOverflowNewQuestion</td>\n",
       "      <td>Over the last three months, approximately how ...</td>\n",
       "    </tr>\n",
       "    <tr>\n",
       "      <th>135</th>\n",
       "      <td>StackOverflowAnswer</td>\n",
       "      <td>Over the last three months, approximately how ...</td>\n",
       "    </tr>\n",
       "    <tr>\n",
       "      <th>136</th>\n",
       "      <td>StackOverflowMetaChat</td>\n",
       "      <td>Over the last three months, approximately how ...</td>\n",
       "    </tr>\n",
       "    <tr>\n",
       "      <th>137</th>\n",
       "      <td>StackOverflowAdsRelevant</td>\n",
       "      <td>The ads on Stack Overflow are relevant to me</td>\n",
       "    </tr>\n",
       "    <tr>\n",
       "      <th>138</th>\n",
       "      <td>StackOverflowAdsDistracting</td>\n",
       "      <td>The ads on Stack Overflow are distracting</td>\n",
       "    </tr>\n",
       "    <tr>\n",
       "      <th>139</th>\n",
       "      <td>StackOverflowModeration</td>\n",
       "      <td>The moderation on Stack Overflow is unfair</td>\n",
       "    </tr>\n",
       "    <tr>\n",
       "      <th>140</th>\n",
       "      <td>StackOverflowCommunity</td>\n",
       "      <td>I feel like a member of the Stack Overflow com...</td>\n",
       "    </tr>\n",
       "    <tr>\n",
       "      <th>141</th>\n",
       "      <td>StackOverflowHelpful</td>\n",
       "      <td>The answers and code examples I get on Stack O...</td>\n",
       "    </tr>\n",
       "    <tr>\n",
       "      <th>142</th>\n",
       "      <td>StackOverflowBetter</td>\n",
       "      <td>Stack Overflow makes the Internet a better place</td>\n",
       "    </tr>\n",
       "    <tr>\n",
       "      <th>143</th>\n",
       "      <td>StackOverflowWhatDo</td>\n",
       "      <td>I don't know what I'd do without Stack Overflow</td>\n",
       "    </tr>\n",
       "    <tr>\n",
       "      <th>144</th>\n",
       "      <td>StackOverflowMakeMoney</td>\n",
       "      <td>The people who run Stack Overflow are just in ...</td>\n",
       "    </tr>\n",
       "    <tr>\n",
       "      <th>145</th>\n",
       "      <td>Gender</td>\n",
       "      <td>Which of the following do you currently identi...</td>\n",
       "    </tr>\n",
       "    <tr>\n",
       "      <th>146</th>\n",
       "      <td>HighestEducationParents</td>\n",
       "      <td>What is the highest level of education receive...</td>\n",
       "    </tr>\n",
       "    <tr>\n",
       "      <th>147</th>\n",
       "      <td>Race</td>\n",
       "      <td>Which of the following do you identify as?</td>\n",
       "    </tr>\n",
       "    <tr>\n",
       "      <th>148</th>\n",
       "      <td>SurveyLong</td>\n",
       "      <td>This survey was too long</td>\n",
       "    </tr>\n",
       "    <tr>\n",
       "      <th>149</th>\n",
       "      <td>QuestionsInteresting</td>\n",
       "      <td>The questions were interesting</td>\n",
       "    </tr>\n",
       "    <tr>\n",
       "      <th>150</th>\n",
       "      <td>QuestionsConfusing</td>\n",
       "      <td>The questions were confusing</td>\n",
       "    </tr>\n",
       "    <tr>\n",
       "      <th>151</th>\n",
       "      <td>InterestedAnswers</td>\n",
       "      <td>I'm interested in learning how other developer...</td>\n",
       "    </tr>\n",
       "    <tr>\n",
       "      <th>152</th>\n",
       "      <td>Salary</td>\n",
       "      <td>What is your current annual base salary, befor...</td>\n",
       "    </tr>\n",
       "    <tr>\n",
       "      <th>153</th>\n",
       "      <td>ExpectedSalary</td>\n",
       "      <td>You said before that you are currently learnin...</td>\n",
       "    </tr>\n",
       "  </tbody>\n",
       "</table>\n",
       "<p>154 rows × 2 columns</p>\n",
       "</div>"
      ],
      "text/plain": [
       "                          Column  \\\n",
       "0                     Respondent   \n",
       "1                   Professional   \n",
       "2                   ProgramHobby   \n",
       "3                        Country   \n",
       "4                     University   \n",
       "5               EmploymentStatus   \n",
       "6                FormalEducation   \n",
       "7                 MajorUndergrad   \n",
       "8                     HomeRemote   \n",
       "9                    CompanySize   \n",
       "10                   CompanyType   \n",
       "11                  YearsProgram   \n",
       "12                 YearsCodedJob   \n",
       "13             YearsCodedJobPast   \n",
       "14                 DeveloperType   \n",
       "15              WebDeveloperType   \n",
       "16           MobileDeveloperType   \n",
       "17              NonDeveloperType   \n",
       "18            CareerSatisfaction   \n",
       "19               JobSatisfaction   \n",
       "20                 ExCoderReturn   \n",
       "21               ExCoderNotForMe   \n",
       "22                ExCoderBalance   \n",
       "23                ExCoder10Years   \n",
       "24               ExCoderBelonged   \n",
       "25                 ExCoderSkills   \n",
       "26            ExCoderWillNotCode   \n",
       "27                 ExCoderActive   \n",
       "28                  PronounceGIF   \n",
       "29                ProblemSolving   \n",
       "..                           ...   \n",
       "124         InfluenceRecruitment   \n",
       "125       InfluenceCommunication   \n",
       "126       StackOverflowDescribes   \n",
       "127    StackOverflowSatisfaction   \n",
       "128         StackOverflowDevices   \n",
       "129     StackOverflowFoundAnswer   \n",
       "130      StackOverflowCopiedCode   \n",
       "131      StackOverflowJobListing   \n",
       "132     StackOverflowCompanyPage   \n",
       "133       StackOverflowJobSearch   \n",
       "134     StackOverflowNewQuestion   \n",
       "135          StackOverflowAnswer   \n",
       "136        StackOverflowMetaChat   \n",
       "137     StackOverflowAdsRelevant   \n",
       "138  StackOverflowAdsDistracting   \n",
       "139      StackOverflowModeration   \n",
       "140       StackOverflowCommunity   \n",
       "141         StackOverflowHelpful   \n",
       "142          StackOverflowBetter   \n",
       "143          StackOverflowWhatDo   \n",
       "144       StackOverflowMakeMoney   \n",
       "145                       Gender   \n",
       "146      HighestEducationParents   \n",
       "147                         Race   \n",
       "148                   SurveyLong   \n",
       "149         QuestionsInteresting   \n",
       "150           QuestionsConfusing   \n",
       "151            InterestedAnswers   \n",
       "152                       Salary   \n",
       "153               ExpectedSalary   \n",
       "\n",
       "                                              Question  \n",
       "0                                 Respondent ID number  \n",
       "1           Which of the following best describes you?  \n",
       "2    Do you program as a hobby or contribute to ope...  \n",
       "3              In which country do you currently live?  \n",
       "4    Are you currently enrolled in a formal, degree...  \n",
       "5    Which of the following best describes your cur...  \n",
       "6    Which of the following best describes the high...  \n",
       "7    Which of the following best describes your mai...  \n",
       "8         How often do you work from home or remotely?  \n",
       "9    In terms of the number of employees, how large...  \n",
       "10   Which of the following best describes the type...  \n",
       "11   How long has it been since you first learned h...  \n",
       "12   For how many years have you coded as part of y...  \n",
       "13   For how many years did you code as part of you...  \n",
       "14           Which of the following best describe you?  \n",
       "15   Which of the following best describes you as a...  \n",
       "16   For which of the following platforms do you de...  \n",
       "17                Which of the following describe you?  \n",
       "18                          Career satisfaction rating  \n",
       "19                             Job satisfaction rating  \n",
       "20   You said before that you used to code as part ...  \n",
       "21   You said before that you used to code as part ...  \n",
       "22   You said before that you used to code as part ...  \n",
       "23   You said before that you used to code as part ...  \n",
       "24   You said before that you used to code as part ...  \n",
       "25   You said before that you used to code as part ...  \n",
       "26   You said before that you used to code as part ...  \n",
       "27   You said before that you used to code as part ...  \n",
       "28                         How do you pronounce \"GIF\"?  \n",
       "29                             I love solving problems  \n",
       "..                                                 ...  \n",
       "124  How much influence do you have on purchasing d...  \n",
       "125  How much influence do you have on purchasing d...  \n",
       "126         Which of the following best describes you?  \n",
       "127                        Stack Overflow satisfaction  \n",
       "128  Which of the following devices have you used t...  \n",
       "129  Over the last three months, approximately how ...  \n",
       "130  Over the last three months, approximately how ...  \n",
       "131  Over the last three months, approximately how ...  \n",
       "132  Over the last three months, approximately how ...  \n",
       "133  Over the last three months, approximately how ...  \n",
       "134  Over the last three months, approximately how ...  \n",
       "135  Over the last three months, approximately how ...  \n",
       "136  Over the last three months, approximately how ...  \n",
       "137       The ads on Stack Overflow are relevant to me  \n",
       "138          The ads on Stack Overflow are distracting  \n",
       "139         The moderation on Stack Overflow is unfair  \n",
       "140  I feel like a member of the Stack Overflow com...  \n",
       "141  The answers and code examples I get on Stack O...  \n",
       "142   Stack Overflow makes the Internet a better place  \n",
       "143    I don't know what I'd do without Stack Overflow  \n",
       "144  The people who run Stack Overflow are just in ...  \n",
       "145  Which of the following do you currently identi...  \n",
       "146  What is the highest level of education receive...  \n",
       "147         Which of the following do you identify as?  \n",
       "148                           This survey was too long  \n",
       "149                     The questions were interesting  \n",
       "150                       The questions were confusing  \n",
       "151  I'm interested in learning how other developer...  \n",
       "152  What is your current annual base salary, befor...  \n",
       "153  You said before that you are currently learnin...  \n",
       "\n",
       "[154 rows x 2 columns]"
      ]
     },
     "execution_count": 115,
     "metadata": {},
     "output_type": "execute_result"
    }
   ],
   "source": [
    "# how many questions in the survey?\n",
    "\n",
    "df_sh"
   ]
  },
  {
   "cell_type": "code",
   "execution_count": 116,
   "metadata": {},
   "outputs": [],
   "source": [
    "# build a function to count the size of the dataset\n",
    "def DataSize(num_rows, num_cols): \n",
    "    \"\"\"\n",
    "    This section is to help count the size of the dataset\"\n",
    "    \n",
    "    \"\"\"\n",
    "    print('Number of Rows: ', num_rows)\n",
    "    print('Number of Columes: ', num_cols)"
   ]
  },
  {
   "cell_type": "code",
   "execution_count": 117,
   "metadata": {},
   "outputs": [
    {
     "name": "stdout",
     "output_type": "stream",
     "text": [
      "Number of Rows:  19102\n",
      "Number of Columes:  154\n"
     ]
    }
   ],
   "source": [
    "# data size of the survey results\n",
    "\n",
    "DataSize(df_re.shape[0],df_re.shape[1]) "
   ]
  },
  {
   "cell_type": "markdown",
   "metadata": {},
   "source": [
    "What are the countries the developers live in? And the # of developers?"
   ]
  },
  {
   "cell_type": "code",
   "execution_count": 118,
   "metadata": {},
   "outputs": [
    {
     "name": "stdout",
     "output_type": "stream",
     "text": [
      "United States                     4364\n",
      "India                             1557\n",
      "United Kingdom                    1424\n",
      "Germany                           1337\n",
      "Canada                             874\n",
      "Poland                             694\n",
      "France                             522\n",
      "Australia                          399\n",
      "Netherlands                        373\n",
      "Israel                             338\n",
      "Russian Federation                 330\n",
      "Spain                              312\n",
      "Italy                              304\n",
      "Sweden                             267\n",
      "Brazil                             259\n",
      "Romania                            251\n",
      "Switzerland                        242\n",
      "Slovenia                           190\n",
      "Austria                            190\n",
      "Iran                               174\n",
      "Czech Republic                     167\n",
      "Pakistan                           160\n",
      "Ukraine                            148\n",
      "Turkey                             146\n",
      "Belgium                            138\n",
      "Ireland                            134\n",
      "Finland                            132\n",
      "Greece                             129\n",
      "Hungary                            122\n",
      "China                              119\n",
      "                                  ... \n",
      "Mozambique                           2\n",
      "Bahrain                              2\n",
      "Gibraltar                            1\n",
      "Cayman Islands                       1\n",
      "Brunei Darussalam                    1\n",
      "Vatican City State                   1\n",
      "American Samoa                       1\n",
      "S. Georgia & S. Sandwich Isls.       1\n",
      "Zaire                                1\n",
      "Laos                                 1\n",
      "Ivory Coast (Cote D'Ivoire)          1\n",
      "Fiji                                 1\n",
      "Virgin Islands (USA)                 1\n",
      "Togo                                 1\n",
      "Senegal                              1\n",
      "Tadjikistan                          1\n",
      "Sudan                                1\n",
      "Bhutan                               1\n",
      "Anguilla                             1\n",
      "Libya                                1\n",
      "Bahamas                              1\n",
      "Malawi                               1\n",
      "Montenegro                           1\n",
      "Qatar                                1\n",
      "Angola                               1\n",
      "Burkina Faso                         1\n",
      "Cape Verde                           1\n",
      "Virgin Islands (British)             1\n",
      "Gabon                                1\n",
      "Lesotho                              1\n",
      "Name: Country, Length: 165, dtype: int64\n"
     ]
    }
   ],
   "source": [
    "# how many countries? how does the country profile look like? \n",
    "country_vals = df_re.Country.value_counts()\n",
    "print(country_vals)"
   ]
  },
  {
   "cell_type": "markdown",
   "metadata": {},
   "source": [
    "### Data Visualization\n",
    "\n",
    "What are the professional status of the developers?"
   ]
  },
  {
   "cell_type": "code",
   "execution_count": 119,
   "metadata": {},
   "outputs": [
    {
     "data": {
      "image/png": "[encoded data removed]",
      "text/plain": [
       "<matplotlib.figure.Figure at 0x7fc83032fda0>"
      ]
     },
     "metadata": {
      "needs_background": "light"
     },
     "output_type": "display_data"
    }
   ],
   "source": [
    "# What typs of professional are they? And the distribution?\n",
    "\n",
    "professional_vals = df_re.Professional.value_counts()\n",
    "(professional_vals/df_re.shape[0]).plot(kind=\"bar\");\n",
    "plt.title(\"Professional Types\");"
   ]
  },
  {
   "cell_type": "markdown",
   "metadata": {},
   "source": [
    "What are the top 10 countries with the most developers?"
   ]
  },
  {
   "cell_type": "code",
   "execution_count": 120,
   "metadata": {},
   "outputs": [
    {
     "data": {
      "image/png": "[encoded data removed]",
      "text/plain": [
       "<matplotlib.figure.Figure at 0x7fc8302ec358>"
      ]
     },
     "metadata": {
      "needs_background": "light"
     },
     "output_type": "display_data"
    }
   ],
   "source": [
    "# Create the bar chart of the top 10 countries \n",
    "\n",
    "(country_vals[:10]/df_re.shape[0]).plot(kind=\"bar\");\n",
    "plt.title(\"Top 10 Countries: # Respondents\");"
   ]
  },
  {
   "cell_type": "markdown",
   "metadata": {},
   "source": [
    "### Data Analysis\n",
    "\n",
    "#### Question 1: is the salary for developers from the Germany higher than those from United States?"
   ]
  },
  {
   "cell_type": "code",
   "execution_count": 139,
   "metadata": {},
   "outputs": [
    {
     "data": {
      "text/plain": [
       "Respondent\n",
       "18238    195000.000000\n",
       "6744     195000.000000\n",
       "1697     195000.000000\n",
       "6718     193750.000000\n",
       "14364    192000.000000\n",
       "2371     192000.000000\n",
       "6595     190000.000000\n",
       "17573    190000.000000\n",
       "1353     190000.000000\n",
       "14783    188000.000000\n",
       "14799    187500.000000\n",
       "9937     187200.000000\n",
       "12757    185000.000000\n",
       "221      185000.000000\n",
       "15964    185000.000000\n",
       "2139     185000.000000\n",
       "6025     180000.000000\n",
       "6363     180000.000000\n",
       "6501     180000.000000\n",
       "1813     180000.000000\n",
       "11167    180000.000000\n",
       "10219    180000.000000\n",
       "14222    180000.000000\n",
       "6900     180000.000000\n",
       "17319    180000.000000\n",
       "2605     180000.000000\n",
       "771      178000.000000\n",
       "11728    175000.000000\n",
       "7400     175000.000000\n",
       "15031    175000.000000\n",
       "             ...      \n",
       "15441       205.549846\n",
       "1078        200.000000\n",
       "15180       176.185582\n",
       "3570        161.503450\n",
       "8459        150.375940\n",
       "10414       138.914614\n",
       "3992        138.000000\n",
       "18701       123.479657\n",
       "11848       106.060606\n",
       "5439         96.000000\n",
       "6783         92.000000\n",
       "800          79.545455\n",
       "2269         78.571429\n",
       "16376        64.516129\n",
       "5140         51.250000\n",
       "4598         48.642534\n",
       "15590        45.161290\n",
       "15682        39.086250\n",
       "11845        29.560375\n",
       "9411         24.840764\n",
       "2318         24.332798\n",
       "11868         2.179837\n",
       "7079          1.495774\n",
       "8155          0.757576\n",
       "3012          0.117457\n",
       "16896         0.058729\n",
       "9134          0.044046\n",
       "9083          0.014682\n",
       "4518          0.000000\n",
       "2952          0.000000\n",
       "Name: Salary, Length: 5009, dtype: float64"
      ]
     },
     "execution_count": 139,
     "metadata": {},
     "output_type": "execute_result"
    }
   ],
   "source": [
    "# find max and min for salary. \n",
    "# Drop the values that are not available.\n",
    "df_re.groupby(['Respondent']).mean()['Salary'].sort_values(ascending=False).dropna()"
   ]
  },
  {
   "cell_type": "code",
   "execution_count": 158,
   "metadata": {},
   "outputs": [
    {
     "name": "stdout",
     "output_type": "stream",
     "text": [
      "51684.5596231\n"
     ]
    }
   ],
   "source": [
    "# calculate the average salary for Germany\n",
    "salary_gm_mean=df_re.Salary[df_re['Country']=='Germany'].mean()\n",
    "print(salary_gm_mean)"
   ]
  },
  {
   "cell_type": "code",
   "execution_count": 159,
   "metadata": {},
   "outputs": [
    {
     "name": "stdout",
     "output_type": "stream",
     "text": [
      "52634.4086022\n"
     ]
    }
   ],
   "source": [
    "# calculate the median salary for Germany\n",
    "salary_gm_median=df_re.Salary[df_re['Country']=='Germany'].median()\n",
    "print(salary_gm_median)"
   ]
  },
  {
   "cell_type": "code",
   "execution_count": 160,
   "metadata": {},
   "outputs": [
    {
     "name": "stdout",
     "output_type": "stream",
     "text": [
      "98722.1384929\n"
     ]
    }
   ],
   "source": [
    "# calculate the average salary for countries except Germany\n",
    "salary_nongm_mean=df_re.Salary[df_re['Country']=='United States'].mean()\n",
    "print(salary_nongm_mean)"
   ]
  },
  {
   "cell_type": "code",
   "execution_count": 161,
   "metadata": {},
   "outputs": [
    {
     "name": "stdout",
     "output_type": "stream",
     "text": [
      "95900.0\n"
     ]
    }
   ],
   "source": [
    "# calculate the median salary for countries except Germany\n",
    "salary_nongm_median=df_re.Salary[df_re['Country']=='United States'].median()\n",
    "print(salary_nongm_median)"
   ]
  },
  {
   "cell_type": "markdown",
   "metadata": {},
   "source": [
    "#### Answers to Question 1"
   ]
  },
  {
   "cell_type": "code",
   "execution_count": 162,
   "metadata": {},
   "outputs": [
    {
     "name": "stdout",
     "output_type": "stream",
     "text": [
      "mean salary for Germany:  51684.5596231\n",
      "median salary for Germany:  52634.4086022\n",
      "mean salary for United States:  98722.1384929\n",
      "median salary for United States:  95900.0\n"
     ]
    }
   ],
   "source": [
    "print('mean salary for Germany: ', salary_gm_mean)\n",
    "print('median salary for Germany: ', salary_gm_median)\n",
    "print('mean salary for United States: ', salary_nongm_mean)\n",
    "print('median salary for United States: ', salary_nongm_median)"
   ]
  },
  {
   "cell_type": "markdown",
   "metadata": {},
   "source": [
    "From the results above, we can see the mean and average of the salarie for developers in Germany is significant lower than those in US. "
   ]
  },
  {
   "cell_type": "markdown",
   "metadata": {},
   "source": [
    "#### Question 2: is the career satisfaction for developers from Germany higher than those from United States?"
   ]
  },
  {
   "cell_type": "code",
   "execution_count": 175,
   "metadata": {},
   "outputs": [
    {
     "name": "stdout",
     "output_type": "stream",
     "text": [
      "7.19593345656\n"
     ]
    }
   ],
   "source": [
    "# averaqge career satisfaction of Germany developers\n",
    "\n",
    "CareerSatisfaction_gm_Mean=df_re.CareerSatisfaction[df_re['Country']=='Germany'].mean()\n",
    "print(CareerSatisfaction_gm_Mean)"
   ]
  },
  {
   "cell_type": "code",
   "execution_count": 176,
   "metadata": {},
   "outputs": [
    {
     "name": "stdout",
     "output_type": "stream",
     "text": [
      "7.6180537438\n"
     ]
    }
   ],
   "source": [
    "# averaqge career satisfaction of developers from United States\n",
    "\n",
    "CareerSatisfaction_nongm_Mean=df_re.CareerSatisfaction[df_re['Country']=='United States'].mean()\n",
    "print(CareerSatisfaction_nongm_Mean)"
   ]
  },
  {
   "cell_type": "code",
   "execution_count": 177,
   "metadata": {},
   "outputs": [
    {
     "name": "stdout",
     "output_type": "stream",
     "text": [
      "8.0\n"
     ]
    }
   ],
   "source": [
    "# median career satisfaction of developers from Germany\n",
    "\n",
    "CareerSatisfaction_gm_Median=df_re.CareerSatisfaction[df_re['Country']=='Germany'].median()\n",
    "print(CareerSatisfaction_gm_Median)"
   ]
  },
  {
   "cell_type": "code",
   "execution_count": 178,
   "metadata": {},
   "outputs": [
    {
     "name": "stdout",
     "output_type": "stream",
     "text": [
      "8.0\n"
     ]
    }
   ],
   "source": [
    "# median career satisfaction of developers from other countries\n",
    "\n",
    "CareerSatisfaction_nongm_Median=df_re.CareerSatisfaction[df_re['Country']=='United States'].median()\n",
    "print(CareerSatisfaction_nongm_Median)"
   ]
  },
  {
   "cell_type": "code",
   "execution_count": 174,
   "metadata": {},
   "outputs": [
    {
     "data": {
      "text/plain": [
       "Respondent\n",
       "5704     10.0\n",
       "10019    10.0\n",
       "17009    10.0\n",
       "2623     10.0\n",
       "5428     10.0\n",
       "17002    10.0\n",
       "15005    10.0\n",
       "15006    10.0\n",
       "2637     10.0\n",
       "2641     10.0\n",
       "15009    10.0\n",
       "12637    10.0\n",
       "11837    10.0\n",
       "15011    10.0\n",
       "16988    10.0\n",
       "16987    10.0\n",
       "2654     10.0\n",
       "13544    10.0\n",
       "15001    10.0\n",
       "17012    10.0\n",
       "17028    10.0\n",
       "2584     10.0\n",
       "10037    10.0\n",
       "5444     10.0\n",
       "5443     10.0\n",
       "10031    10.0\n",
       "11829    10.0\n",
       "8754     10.0\n",
       "2619     10.0\n",
       "13874    10.0\n",
       "         ... \n",
       "2857      0.0\n",
       "14609     0.0\n",
       "11931     0.0\n",
       "8576      0.0\n",
       "2308      0.0\n",
       "4275      0.0\n",
       "107       0.0\n",
       "12817     0.0\n",
       "5892      0.0\n",
       "4530      0.0\n",
       "8358      0.0\n",
       "12888     0.0\n",
       "10330     0.0\n",
       "9748      0.0\n",
       "767       0.0\n",
       "12877     0.0\n",
       "1028      0.0\n",
       "2201      0.0\n",
       "16284     0.0\n",
       "755       0.0\n",
       "13710     0.0\n",
       "9324      0.0\n",
       "12852     0.0\n",
       "7082      0.0\n",
       "10497     0.0\n",
       "18980     0.0\n",
       "11288     0.0\n",
       "15634     0.0\n",
       "473       0.0\n",
       "14174     0.0\n",
       "Name: CareerSatisfaction, Length: 16102, dtype: float64"
      ]
     },
     "execution_count": 174,
     "metadata": {},
     "output_type": "execute_result"
    }
   ],
   "source": [
    "# max and min for career satisfaction. \n",
    "# Drop the values that are not available.\n",
    "df_re.groupby(['Respondent']).mean()['CareerSatisfaction'].sort_values(ascending=False).dropna()"
   ]
  },
  {
   "cell_type": "markdown",
   "metadata": {},
   "source": [
    "#### Answers to Question 2"
   ]
  },
  {
   "cell_type": "code",
   "execution_count": 179,
   "metadata": {},
   "outputs": [
    {
     "name": "stdout",
     "output_type": "stream",
     "text": [
      "Mean Career Satisfaction for Germany developers: 7.19593345656\n",
      "Median Career Satisfaction for Germany developers: 8.0\n",
      "Mean Career Satisfaction for develpers from United States: 7.6180537438\n",
      "Median Career Satisfaction for developers from Unnited States: 8.0\n"
     ]
    }
   ],
   "source": [
    "print('Mean Career Satisfaction for Germany developers:', CareerSatisfaction_gm_Mean)\n",
    "print('Median Career Satisfaction for Germany developers:', CareerSatisfaction_gm_Median)\n",
    "print('Mean Career Satisfaction for develpers from United States:', CareerSatisfaction_nongm_Mean)\n",
    "print('Median Career Satisfaction for developers from Unnited States:', CareerSatisfaction_nongm_Median)"
   ]
  },
  {
   "cell_type": "markdown",
   "metadata": {},
   "source": [
    "It looks average career satisfaction for Germany developers is slightly lower than those in US. From median point view, Germany developers is actually matched to US developers."
   ]
  },
  {
   "cell_type": "markdown",
   "metadata": {},
   "source": [
    "#### Question 3: is the job satisfaction for developers from the Germany higher than those from United States?"
   ]
  },
  {
   "cell_type": "code",
   "execution_count": 181,
   "metadata": {},
   "outputs": [
    {
     "name": "stdout",
     "output_type": "stream",
     "text": [
      "7.05495583906\n"
     ]
    }
   ],
   "source": [
    "# average job satisfaction for Germany developers\n",
    "\n",
    "JobSatisfaction_gm_Mean=df_re.JobSatisfaction[df_re['Country']=='Germany'].mean()\n",
    "print(JobSatisfaction_gm_Mean)"
   ]
  },
  {
   "cell_type": "code",
   "execution_count": 182,
   "metadata": {},
   "outputs": [
    {
     "name": "stdout",
     "output_type": "stream",
     "text": [
      "7.14182825485\n"
     ]
    }
   ],
   "source": [
    "# average job satisfaction for other developers\n",
    "\n",
    "JobSatisfaction_nongm_Mean=df_re.JobSatisfaction[df_re['Country']=='United States'].mean()\n",
    "print(JobSatisfaction_nongm_Mean)"
   ]
  },
  {
   "cell_type": "code",
   "execution_count": 183,
   "metadata": {},
   "outputs": [
    {
     "name": "stdout",
     "output_type": "stream",
     "text": [
      "7.0\n"
     ]
    }
   ],
   "source": [
    "# median job satisfaction for Germany developers\n",
    "\n",
    "JobSatisfaction_gm_Median=df_re.JobSatisfaction[df_re['Country']=='Germany'].median()\n",
    "print(JobSatisfaction_gm_Median)"
   ]
  },
  {
   "cell_type": "code",
   "execution_count": 184,
   "metadata": {},
   "outputs": [
    {
     "name": "stdout",
     "output_type": "stream",
     "text": [
      "8.0\n"
     ]
    }
   ],
   "source": [
    "# median job satisfaction for other developers\n",
    "\n",
    "JobSatisfaction_nongm_Median=df_re.JobSatisfaction[df_re['Country']=='United States'].median()\n",
    "print(JobSatisfaction_nongm_Median)"
   ]
  },
  {
   "cell_type": "code",
   "execution_count": 185,
   "metadata": {},
   "outputs": [
    {
     "data": {
      "text/plain": [
       "Respondent\n",
       "2641     10.0\n",
       "14032    10.0\n",
       "3119     10.0\n",
       "3118     10.0\n",
       "7789     10.0\n",
       "14029    10.0\n",
       "3103     10.0\n",
       "17052    10.0\n",
       "3101     10.0\n",
       "7837     10.0\n",
       "7843     10.0\n",
       "3081     10.0\n",
       "17067    10.0\n",
       "17069    10.0\n",
       "3076     10.0\n",
       "13992    10.0\n",
       "17084    10.0\n",
       "13990    10.0\n",
       "13987    10.0\n",
       "17090    10.0\n",
       "3042     10.0\n",
       "13985    10.0\n",
       "13982    10.0\n",
       "17100    10.0\n",
       "17103    10.0\n",
       "3031     10.0\n",
       "13968    10.0\n",
       "3021     10.0\n",
       "7918     10.0\n",
       "3123     10.0\n",
       "         ... \n",
       "16720     0.0\n",
       "17101     0.0\n",
       "4776      0.0\n",
       "107       0.0\n",
       "5269      0.0\n",
       "16357     0.0\n",
       "3561      0.0\n",
       "11851     0.0\n",
       "4756      0.0\n",
       "841       0.0\n",
       "14174     0.0\n",
       "14478     0.0\n",
       "1897      0.0\n",
       "6864      0.0\n",
       "11931     0.0\n",
       "2308      0.0\n",
       "7610      0.0\n",
       "1296      0.0\n",
       "17822     0.0\n",
       "19025     0.0\n",
       "8600      0.0\n",
       "9403      0.0\n",
       "13110     0.0\n",
       "12760     0.0\n",
       "11792     0.0\n",
       "11937     0.0\n",
       "9416      0.0\n",
       "7562      0.0\n",
       "4113      0.0\n",
       "11879     0.0\n",
       "Name: JobSatisfaction, Length: 15253, dtype: float64"
      ]
     },
     "execution_count": 185,
     "metadata": {},
     "output_type": "execute_result"
    }
   ],
   "source": [
    "# max and min for job satisfaction. \n",
    "# Drop the values that are not available. \n",
    "df_re.groupby(['Respondent']).mean()['JobSatisfaction'].sort_values(ascending=False).dropna()"
   ]
  },
  {
   "cell_type": "markdown",
   "metadata": {},
   "source": [
    "#### Results to Question 3"
   ]
  },
  {
   "cell_type": "code",
   "execution_count": 186,
   "metadata": {},
   "outputs": [
    {
     "name": "stdout",
     "output_type": "stream",
     "text": [
      "Mean Job Satisfaction for developers from Germany: 7.05495583906\n",
      "Median Job Satisfaction for developers from Germany: 7.0\n",
      "Mean Job Satisfaction for developers from United States: 7.14182825485\n",
      "Median Job Satisfaction for developers from United States: 8.0\n"
     ]
    }
   ],
   "source": [
    "print('Mean Job Satisfaction for developers from Germany:', JobSatisfaction_gm_Mean)\n",
    "print('Median Job Satisfaction for developers from Germany:', JobSatisfaction_gm_Median)\n",
    "print('Mean Job Satisfaction for developers from United States:', JobSatisfaction_nongm_Mean)\n",
    "print('Median Job Satisfaction for developers from United States:', JobSatisfaction_nongm_Median)"
   ]
  },
  {
   "cell_type": "raw",
   "metadata": {},
   "source": [
    "Results to Question 3: Mean job satisfaction for developers from Germany is slightly lower than those in United States. On the other hand, the median value is actually significantly lower."
   ]
  },
  {
   "cell_type": "markdown",
   "metadata": {},
   "source": [
    "### Result Summary:\n",
    "\n",
    "The analysis above shows that the software developers from the Germany do not have consistently advantages over rest of world in terms of salary, career satisfaction and job satisfaction.\n",
    "\n",
    "In details:\n",
    "\n",
    "Result to Question 1: From the results above, we can see the mean and average of the salarie for developers in Germany is significant lower than those in US. \n",
    "\n",
    "Result to Question 2: It looks average career satisfaction for Germany developers is slightly lower than those in US. From median point view, Germany developers is actually matched to US developers.\n",
    "\n",
    "Result to Question 3:  Mean job satisfaction for developers from Germany is slightly lower than those in United States. On the other hand, the median value is actually significantly lower."
   ]
  },
  {
   "cell_type": "code",
   "execution_count": null,
   "metadata": {},
   "outputs": [],
   "source": []
  },
  {
   "cell_type": "code",
   "execution_count": null,
   "metadata": {},
   "outputs": [],
   "source": []
  }
 ],
 "metadata": {
  "kernelspec": {
   "display_name": "Python 3",
   "language": "python",
   "name": "python3"
  },
  "language_info": {
   "codemirror_mode": {
    "name": "ipython",
    "version": 3
   },
   "file_extension": ".py",
   "mimetype": "text/x-python",
   "name": "python",
   "nbconvert_exporter": "python",
   "pygments_lexer": "ipython3",
   "version": "3.6.3"
  }
 },
 "nbformat": 4,
 "nbformat_minor": 2
}
